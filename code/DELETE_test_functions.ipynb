{
 "cells": [
  {
   "cell_type": "code",
   "execution_count": 3,
   "id": "9cf70df9",
   "metadata": {},
   "outputs": [],
   "source": [
    "import os\n",
    "import unittest\n",
    "import clean_input_data"
   ]
  },
  {
   "cell_type": "code",
   "execution_count": null,
   "id": "bb20d76f",
   "metadata": {},
   "outputs": [],
   "source": [
    "data_dir = \"/Volumes/GoogleDrive/My Drive/COURSES/22 AU/CSE_583/final_prj/data/raw/\""
   ]
  },
  {
   "cell_type": "code",
   "execution_count": 4,
   "id": "61cc6cc5",
   "metadata": {},
   "outputs": [],
   "source": [
    "class UnitTests(unittest.TestCase):\n",
    "    def test_read_wea_datas(self):\n",
    "        \"\"\"\n",
    "        Edge test to test for .csv format\n",
    "        \"\"\"\n",
    "        with self.assertRaises(ValueError):\n",
    "            for file in files:  # Q: WE WANT TO CHECK 'FILES' WHICH IS A VALUE INSIDE 'READ_WEA_DATAS' FUNCTION. HOW DO WE ACCESS A VALUE INSIDE A FUNCTION?\n",
    "                # Split the extension from the path and normalise it to lowercase.\n",
    "                ext = os.path.splitext(file)[-1].lower()\n",
    "                if ext == \".csv\":\n",
    "                    pass\n",
    "        \n",
    "        return\n",
    "    "
   ]
  },
  {
   "cell_type": "code",
   "execution_count": 5,
   "id": "87d03935",
   "metadata": {},
   "outputs": [
    {
     "ename": "NameError",
     "evalue": "name 'test_read_wea_datas' is not defined",
     "output_type": "error",
     "traceback": [
      "\u001b[0;31m---------------------------------------------------------------------------\u001b[0m",
      "\u001b[0;31mNameError\u001b[0m                                 Traceback (most recent call last)",
      "Input \u001b[0;32mIn [5]\u001b[0m, in \u001b[0;36m<cell line: 1>\u001b[0;34m()\u001b[0m\n\u001b[0;32m----> 1\u001b[0m \u001b[43mtest_read_wea_datas\u001b[49m\n",
      "\u001b[0;31mNameError\u001b[0m: name 'test_read_wea_datas' is not defined"
     ]
    }
   ],
   "source": [
    "test_read_wea_datas"
   ]
  }
 ],
 "metadata": {
  "kernelspec": {
   "display_name": "Python 3 (ipykernel)",
   "language": "python",
   "name": "python3"
  },
  "language_info": {
   "codemirror_mode": {
    "name": "ipython",
    "version": 3
   },
   "file_extension": ".py",
   "mimetype": "text/x-python",
   "name": "python",
   "nbconvert_exporter": "python",
   "pygments_lexer": "ipython3",
   "version": "3.8.8"
  }
 },
 "nbformat": 4,
 "nbformat_minor": 5
}
